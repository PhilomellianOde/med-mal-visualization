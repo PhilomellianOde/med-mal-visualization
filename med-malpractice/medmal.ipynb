{
 "cells": [
  {
   "cell_type": "markdown",
   "metadata": {},
   "source": [
    "**Setting up Mercury**\n",
    "Mercury allows for the setup of interactive widgets, enabling the sharing of notebooks in an interactive web format. I chose this method to enable easier access to my project and to familiarize myself with an interesting library I came across."
   ]
  },
  {
   "cell_type": "code",
   "execution_count": 15,
   "metadata": {},
   "outputs": [
    {
     "data": {
      "application/mercury+json": {
       "allow_download": true,
       "code_uid": "App.0.40.25.2-randafa6a254",
       "continuous_update": true,
       "description": "Analysis of malpractice insurance claims data from Kaggle.",
       "full_screen": true,
       "model_id": "mercury-app",
       "notify": "{}",
       "output": "app",
       "schedule": "",
       "show_code": true,
       "show_prompt": false,
       "show_sidebar": true,
       "static_notebook": true,
       "stop_on_error": false,
       "title": "Medical Malpractice Notebook",
       "widget": "App"
      },
      "text/html": [
       "<h3>Mercury Application</h3><small>This output won't appear in the web app.</small>"
      ],
      "text/plain": [
       "mercury.App"
      ]
     },
     "metadata": {},
     "output_type": "display_data"
    }
   ],
   "source": [
    "import mercury as mr\n",
    "app = mr.App(title = \"Medical Malpractice Notebook\",\n",
    "description = \"Analysis of malpractice insurance claims data from Kaggle.\",\n",
    "show_code = True,\n",
    "static_notebook = True)"
   ]
  },
  {
   "cell_type": "markdown",
   "metadata": {},
   "source": [
    "**Setting up libraries**"
   ]
  },
  {
   "cell_type": "code",
   "execution_count": 16,
   "metadata": {},
   "outputs": [],
   "source": [
    "import numpy as np\n",
    "import pandas as pd\n",
    "import seaborn as sns\n",
    "from IPython.display import display\n",
    "from matplotlib import pyplot as plt"
   ]
  },
  {
   "cell_type": "markdown",
   "metadata": {},
   "source": [
    "**Reading in Medical Malpractice data from CSV** "
   ]
  },
  {
   "cell_type": "code",
   "execution_count": 17,
   "metadata": {},
   "outputs": [],
   "source": [
    "df = pd.read_csv(\"medicalmalpractice.csv\")"
   ]
  },
  {
   "cell_type": "markdown",
   "metadata": {},
   "source": [
    "Let's take a look at the data types and check if there are nulls."
   ]
  },
  {
   "cell_type": "code",
   "execution_count": 18,
   "metadata": {},
   "outputs": [
    {
     "name": "stdout",
     "output_type": "stream",
     "text": [
      "Are there nulls in the data set? -->  False\n",
      "-----------------------------------------\n"
     ]
    },
    {
     "data": {
      "text/plain": [
       "Amount               int64\n",
       "Severity             int64\n",
       "Age                  int64\n",
       "Private Attorney     int64\n",
       "Marital Status       int64\n",
       "Specialty           object\n",
       "Insurance           object\n",
       "Gender              object\n",
       "dtype: object"
      ]
     },
     "metadata": {},
     "output_type": "display_data"
    }
   ],
   "source": [
    "print(\"Are there nulls in the data set? --> \", df.isnull().values.any())\n",
    "print(\"-----------------------------------------\")\n",
    "display(df.dtypes)"
   ]
  },
  {
   "cell_type": "code",
   "execution_count": 19,
   "metadata": {},
   "outputs": [
    {
     "data": {
      "text/html": [
       "<div>\n",
       "<style scoped>\n",
       "    .dataframe tbody tr th:only-of-type {\n",
       "        vertical-align: middle;\n",
       "    }\n",
       "\n",
       "    .dataframe tbody tr th {\n",
       "        vertical-align: top;\n",
       "    }\n",
       "\n",
       "    .dataframe thead th {\n",
       "        text-align: right;\n",
       "    }\n",
       "</style>\n",
       "<table border=\"1\" class=\"dataframe\">\n",
       "  <thead>\n",
       "    <tr style=\"text-align: right;\">\n",
       "      <th></th>\n",
       "      <th>Amount</th>\n",
       "      <th>Severity</th>\n",
       "      <th>Age</th>\n",
       "      <th>Private Attorney</th>\n",
       "      <th>Marital Status</th>\n",
       "      <th>Specialty</th>\n",
       "      <th>Insurance</th>\n",
       "      <th>Gender</th>\n",
       "    </tr>\n",
       "  </thead>\n",
       "  <tbody>\n",
       "    <tr>\n",
       "      <th>0</th>\n",
       "      <td>57041</td>\n",
       "      <td>7</td>\n",
       "      <td>62</td>\n",
       "      <td>1</td>\n",
       "      <td>2</td>\n",
       "      <td>Family Practice</td>\n",
       "      <td>Private</td>\n",
       "      <td>Male</td>\n",
       "    </tr>\n",
       "    <tr>\n",
       "      <th>1</th>\n",
       "      <td>324976</td>\n",
       "      <td>6</td>\n",
       "      <td>38</td>\n",
       "      <td>1</td>\n",
       "      <td>2</td>\n",
       "      <td>OBGYN</td>\n",
       "      <td>No Insurance</td>\n",
       "      <td>Female</td>\n",
       "    </tr>\n",
       "    <tr>\n",
       "      <th>2</th>\n",
       "      <td>135383</td>\n",
       "      <td>4</td>\n",
       "      <td>34</td>\n",
       "      <td>1</td>\n",
       "      <td>2</td>\n",
       "      <td>Cardiology</td>\n",
       "      <td>Unknown</td>\n",
       "      <td>Male</td>\n",
       "    </tr>\n",
       "    <tr>\n",
       "      <th>3</th>\n",
       "      <td>829742</td>\n",
       "      <td>7</td>\n",
       "      <td>42</td>\n",
       "      <td>1</td>\n",
       "      <td>1</td>\n",
       "      <td>Pediatrics</td>\n",
       "      <td>No Insurance</td>\n",
       "      <td>Female</td>\n",
       "    </tr>\n",
       "    <tr>\n",
       "      <th>4</th>\n",
       "      <td>197675</td>\n",
       "      <td>3</td>\n",
       "      <td>60</td>\n",
       "      <td>0</td>\n",
       "      <td>2</td>\n",
       "      <td>OBGYN</td>\n",
       "      <td>Medicare/Medicaid</td>\n",
       "      <td>Female</td>\n",
       "    </tr>\n",
       "  </tbody>\n",
       "</table>\n",
       "</div>"
      ],
      "text/plain": [
       "   Amount  Severity  Age  Private Attorney  Marital Status        Specialty  \\\n",
       "0   57041         7   62                 1               2  Family Practice   \n",
       "1  324976         6   38                 1               2            OBGYN   \n",
       "2  135383         4   34                 1               2       Cardiology   \n",
       "3  829742         7   42                 1               1       Pediatrics   \n",
       "4  197675         3   60                 0               2            OBGYN   \n",
       "\n",
       "           Insurance  Gender  \n",
       "0            Private    Male  \n",
       "1       No Insurance  Female  \n",
       "2            Unknown    Male  \n",
       "3       No Insurance  Female  \n",
       "4  Medicare/Medicaid  Female  "
      ]
     },
     "metadata": {},
     "output_type": "display_data"
    }
   ],
   "source": [
    "display(df.head())"
   ]
  },
  {
   "cell_type": "markdown",
   "metadata": {},
   "source": [
    "The data appears to have been cleaned, showing no nulls or strange values. \n",
    "\n",
    "The only point of note are the \"Unknown\" values in the Insurance column. Let's get a count of how many are present in the data and if they are relevant or if we can drop them."
   ]
  },
  {
   "cell_type": "code",
   "execution_count": 20,
   "metadata": {},
   "outputs": [
    {
     "data": {
      "text/plain": [
       "Insurance\n",
       "Private                 34289\n",
       "Unknown                 24052\n",
       "Medicare/Medicaid       10882\n",
       "No Insurance             8002\n",
       "Workers Compensation     1985\n",
       "Name: count, dtype: int64"
      ]
     },
     "metadata": {},
     "output_type": "display_data"
    }
   ],
   "source": [
    "display(df['Insurance'].value_counts())"
   ]
  },
  {
   "cell_type": "markdown",
   "metadata": {},
   "source": [
    "'Unknown' appears to be a common value in our dataset. It will be difficult to understand what role type of insurance has on Claims amounts.\n",
    "\n",
    "We'll still look to see how noisy Claims look when we filter by Insurance type to see if there is anything that sticks out."
   ]
  },
  {
   "cell_type": "code",
   "execution_count": 27,
   "metadata": {},
   "outputs": [
    {
     "data": {
      "image/png": "[encoded data removed]",
      "text/plain": [
       "<Figure size 640x480 with 1 Axes>"
      ]
     },
     "metadata": {},
     "output_type": "display_data"
    }
   ],
   "source": [
    "sns.histplot(data=df, x = \"Amount\", binwidth=10000, kde = True)\n",
    "plt.show()"
   ]
  },
  {
   "cell_type": "code",
   "execution_count": 43,
   "metadata": {},
   "outputs": [
    {
     "data": {
      "text/html": [
       "<div>\n",
       "<style scoped>\n",
       "    .dataframe tbody tr th:only-of-type {\n",
       "        vertical-align: middle;\n",
       "    }\n",
       "\n",
       "    .dataframe tbody tr th {\n",
       "        vertical-align: top;\n",
       "    }\n",
       "\n",
       "    .dataframe thead th {\n",
       "        text-align: right;\n",
       "    }\n",
       "</style>\n",
       "<table border=\"1\" class=\"dataframe\">\n",
       "  <thead>\n",
       "    <tr style=\"text-align: right;\">\n",
       "      <th></th>\n",
       "      <th>Amount</th>\n",
       "      <th>Severity</th>\n",
       "      <th>Age</th>\n",
       "      <th>Private Attorney</th>\n",
       "      <th>Marital Status</th>\n",
       "      <th>Specialty</th>\n",
       "      <th>Insurance</th>\n",
       "      <th>Gender</th>\n",
       "    </tr>\n",
       "  </thead>\n",
       "  <tbody>\n",
       "    <tr>\n",
       "      <th>5180</th>\n",
       "      <td>1576</td>\n",
       "      <td>3</td>\n",
       "      <td>75</td>\n",
       "      <td>0</td>\n",
       "      <td>4</td>\n",
       "      <td>Anesthesiology</td>\n",
       "      <td>Unknown</td>\n",
       "      <td>Male</td>\n",
       "    </tr>\n",
       "    <tr>\n",
       "      <th>32946</th>\n",
       "      <td>1578</td>\n",
       "      <td>3</td>\n",
       "      <td>52</td>\n",
       "      <td>0</td>\n",
       "      <td>2</td>\n",
       "      <td>Internal Medicine</td>\n",
       "      <td>Private</td>\n",
       "      <td>Female</td>\n",
       "    </tr>\n",
       "    <tr>\n",
       "      <th>49769</th>\n",
       "      <td>1589</td>\n",
       "      <td>3</td>\n",
       "      <td>32</td>\n",
       "      <td>0</td>\n",
       "      <td>2</td>\n",
       "      <td>Anesthesiology</td>\n",
       "      <td>Medicare/Medicaid</td>\n",
       "      <td>Male</td>\n",
       "    </tr>\n",
       "    <tr>\n",
       "      <th>5287</th>\n",
       "      <td>1589</td>\n",
       "      <td>3</td>\n",
       "      <td>49</td>\n",
       "      <td>0</td>\n",
       "      <td>2</td>\n",
       "      <td>OBGYN</td>\n",
       "      <td>Unknown</td>\n",
       "      <td>Female</td>\n",
       "    </tr>\n",
       "    <tr>\n",
       "      <th>2309</th>\n",
       "      <td>1612</td>\n",
       "      <td>3</td>\n",
       "      <td>44</td>\n",
       "      <td>0</td>\n",
       "      <td>1</td>\n",
       "      <td>Ophthamology</td>\n",
       "      <td>Unknown</td>\n",
       "      <td>Male</td>\n",
       "    </tr>\n",
       "  </tbody>\n",
       "</table>\n",
       "</div>"
      ],
      "text/plain": [
       "       Amount  Severity  Age  Private Attorney  Marital Status  \\\n",
       "5180     1576         3   75                 0               4   \n",
       "32946    1578         3   52                 0               2   \n",
       "49769    1589         3   32                 0               2   \n",
       "5287     1589         3   49                 0               2   \n",
       "2309     1612         3   44                 0               1   \n",
       "\n",
       "               Specialty          Insurance  Gender  \n",
       "5180      Anesthesiology            Unknown    Male  \n",
       "32946  Internal Medicine            Private  Female  \n",
       "49769     Anesthesiology  Medicare/Medicaid    Male  \n",
       "5287               OBGYN            Unknown  Female  \n",
       "2309        Ophthamology            Unknown    Male  "
      ]
     },
     "metadata": {},
     "output_type": "display_data"
    },
    {
     "name": "stdout",
     "output_type": "stream",
     "text": [
      "---------------------------------------------------"
     ]
    },
    {
     "name": "stdout",
     "output_type": "stream",
     "text": [
      "\n"
     ]
    },
    {
     "data": {
      "image/png": "[encoded data removed]",
      "text/plain": [
       "<Figure size 640x480 with 1 Axes>"
      ]
     },
     "metadata": {},
     "output_type": "display_data"
    }
   ],
   "source": [
    "## Isolate large claims amounts --> Analyze separate from lower claims amounts\n",
    "#Copy dataframe\n",
    "df_large = df.copy()\n",
    "\n",
    "#Order Amounts in Ascending Order\n",
    "df_large = df_large.sort_values(by=['Amount'])\n",
    "display(df_large.head())\n",
    "print(\"---------------------------------------------------\")\n",
    "sns.histplot(data = df_large, x = 'Amount')\n",
    "plt.show()"
   ]
  }
 ],
 "metadata": {
  "kernelspec": {
   "display_name": "Python 3",
   "language": "python",
   "name": "python3"
  },
  "language_info": {
   "codemirror_mode": {
    "name": "ipython",
    "version": 3
   },
   "file_extension": ".py",
   "mimetype": "text/x-python",
   "name": "python",
   "nbconvert_exporter": "python",
   "pygments_lexer": "ipython3",
   "version": "3.9.7"
  },
  "orig_nbformat": 4
 },
 "nbformat": 4,
 "nbformat_minor": 2
}
