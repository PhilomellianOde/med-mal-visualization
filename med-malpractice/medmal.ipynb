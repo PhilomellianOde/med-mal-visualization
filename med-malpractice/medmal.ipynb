{
 "cells": [
  {
   "cell_type": "markdown",
   "metadata": {},
   "source": [
    "**Setting up libraries**"
   ]
  },
  {
   "cell_type": "code",
   "execution_count": 4,
   "metadata": {},
   "outputs": [],
   "source": [
    "import numpy as np\n",
    "import pandas as pd\n",
    "import seaborn as sn"
   ]
  },
  {
   "cell_type": "markdown",
   "metadata": {},
   "source": [
    "**Reading in Medical Malpractice data from CSV** "
   ]
  },
  {
   "cell_type": "code",
   "execution_count": 12,
   "metadata": {},
   "outputs": [],
   "source": [
    "df = pd.read_csv(\"medicalmalpractice.csv\")"
   ]
  },
  {
   "cell_type": "markdown",
   "metadata": {},
   "source": [
    "Let's take a look at the data types and check if there are nulls."
   ]
  },
  {
   "cell_type": "code",
   "execution_count": 22,
   "metadata": {},
   "outputs": [
    {
     "name": "stdout",
     "output_type": "stream",
     "text": [
      "Are there nulls in the data set? -->  False\n",
      "-----------------------------------------\n",
      "Amount               int64\n",
      "Severity             int64\n",
      "Age                  int64\n",
      "Private Attorney     int64\n",
      "Marital Status       int64\n",
      "Specialty           object\n",
      "Insurance           object\n",
      "Gender              object\n",
      "dtype: object\n"
     ]
    }
   ],
   "source": [
    "print(\"Are there nulls in the data set? --> \", df.isnull().values.any())\n",
    "print(\"-----------------------------------------\")\n",
    "print(df.dtypes)"
   ]
  },
  {
   "cell_type": "code",
   "execution_count": 20,
   "metadata": {},
   "outputs": [
    {
     "name": "stdout",
     "output_type": "stream",
     "text": [
      "Are there nulls in the data set? -->  False\n",
      "Amount               int64\n",
      "Severity             int64\n",
      "Age                  int64\n",
      "Private Attorney     int64\n",
      "Marital Status       int64\n",
      "Specialty           object\n",
      "Insurance           object\n",
      "Gender              object\n",
      "dtype: object\n",
      "   Amount  Severity  Age  Private Attorney  Marital Status        Specialty  \\\n",
      "0   57041         7   62                 1               2  Family Practice   \n",
      "1  324976         6   38                 1               2            OBGYN   \n",
      "2  135383         4   34                 1               2       Cardiology   \n",
      "3  829742         7   42                 1               1       Pediatrics   \n",
      "4  197675         3   60                 0               2            OBGYN   \n",
      "\n",
      "           Insurance  Gender  \n",
      "0            Private    Male  \n",
      "1       No Insurance  Female  \n",
      "2            Unknown    Male  \n",
      "3       No Insurance  Female  \n",
      "4  Medicare/Medicaid  Female  \n"
     ]
    }
   ],
   "source": [
    "print(df.head())"
   ]
  },
  {
   "cell_type": "markdown",
   "metadata": {},
   "source": [
    "The data appears to have been cleaned, showing no nulls or strange values. \n",
    "\n",
    "The only point of note are the \"Unknown\" values in the Insurance column. Let's get a count of how many are present in the data and if they are relevant or if we can drop them."
   ]
  },
  {
   "cell_type": "code",
   "execution_count": 30,
   "metadata": {},
   "outputs": [
    {
     "data": {
      "text/plain": [
       "Insurance\n",
       "Private                 34289\n",
       "Unknown                 24052\n",
       "Medicare/Medicaid       10882\n",
       "No Insurance             8002\n",
       "Workers Compensation     1985\n",
       "Name: count, dtype: int64"
      ]
     },
     "execution_count": 30,
     "metadata": {},
     "output_type": "execute_result"
    }
   ],
   "source": [
    "df['Insurance'].value_counts()"
   ]
  },
  {
   "cell_type": "markdown",
   "metadata": {},
   "source": [
    "'Unknown' appears to be a common value in our dataset. It will be difficult to understand what role type of insurance has on Claims amounts.\n",
    "\n",
    "We'll still look to see how noisy Claims look when we filter by Insurance type to see if there is anything that sticks out."
   ]
  }
 ],
 "metadata": {
  "kernelspec": {
   "display_name": "Python 3",
   "language": "python",
   "name": "python3"
  },
  "language_info": {
   "codemirror_mode": {
    "name": "ipython",
    "version": 3
   },
   "file_extension": ".py",
   "mimetype": "text/x-python",
   "name": "python",
   "nbconvert_exporter": "python",
   "pygments_lexer": "ipython3",
   "version": "3.9.7"
  },
  "orig_nbformat": 4
 },
 "nbformat": 4,
 "nbformat_minor": 2
}
